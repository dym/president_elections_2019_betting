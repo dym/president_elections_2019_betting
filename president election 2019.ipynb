{
 "cells": [
  {
   "cell_type": "code",
   "execution_count": 55,
   "metadata": {},
   "outputs": [],
   "source": [
    "from decimal import Decimal"
   ]
  },
  {
   "cell_type": "code",
   "execution_count": 56,
   "metadata": {},
   "outputs": [],
   "source": [
    "odds = {\n",
    "    'Петро Порошенко': 2,\n",
    "    'Юлія Тимошенко': 2.8,\n",
    "    'Володимир Зеленський': 4,\n",
    "    'Анатолій Гриценко': 21,\n",
    "    'Андрій Садовий': 41,\n",
    "    'Юрій Бойко': 51,\n",
    "    'Олег Ляшко': 51,\n",
    "    'Олександр Вілкул': 201,\n",
    "    'Євген Мураєв': 301,\n",
    "    'Руслан Кошулинський': 501,\n",
    "    'Ігор Смешко': 501,\n",
    "    'Ольга Богомолець': 501,\n",
    "    'Сергій Тарута': 501,\n",
    "    'Олександр Шевченко': 1001,\n",
    "    'Генадій Балашов': 1001,\n",
    "    'Аркадій Корнатський': 1001,\n",
    "    'Інна Богословська': 1001,\n",
    "    'Сергій Каплін': 1001,\n",
    "    'Ілля Кива': 1001,\n",
    "    'Олександр Мороз': 1001,\n",
    "    'Валентин Наливайченко': 1001,\n",
    "    'Хтось інший': 101\n",
    "}"
   ]
  },
  {
   "cell_type": "code",
   "execution_count": 57,
   "metadata": {},
   "outputs": [
    {
     "name": "stdout",
     "output_type": "stream",
     "text": [
      "Маржа букмекера: 25.25%.\n",
      "Тим часом середня маржа на ринку: десь 4.5%\n"
     ]
    }
   ],
   "source": [
    "all_probabilities_with_margin = sum([Decimal(1) / Decimal(odd) for odd in odds.values()])\n",
    "bookmakers_margin = all_probabilities_with_margin - 1\n",
    "print('Маржа букмекера: {0:.2f}%.\\nТим часом середня маржа на ринку: десь 4.5%'.format(\n",
    "    bookmakers_margin * 100\n",
    "))"
   ]
  },
  {
   "cell_type": "code",
   "execution_count": 58,
   "metadata": {},
   "outputs": [
    {
     "name": "stdout",
     "output_type": "stream",
     "text": [
      "Рейтинг згідно sports.bwin.com:\n",
      "Петро Порошенко: 39.92%\n",
      "Юлія Тимошенко: 28.51%\n",
      "Володимир Зеленський: 19.96%\n",
      "Анатолій Гриценко: 3.80%\n",
      "Андрій Садовий: 1.95%\n",
      "Юрій Бойко: 1.57%\n",
      "Олег Ляшко: 1.57%\n",
      "Олександр Вілкул: 0.40%\n",
      "Євген Мураєв: 0.27%\n",
      "Руслан Кошулинський: 0.16%\n",
      "Ігор Смешко: 0.16%\n",
      "Ольга Богомолець: 0.16%\n",
      "Сергій Тарута: 0.16%\n",
      "Олександр Шевченко: 0.08%\n",
      "Генадій Балашов: 0.08%\n",
      "Аркадій Корнатський: 0.08%\n",
      "Інна Богословська: 0.08%\n",
      "Сергій Каплін: 0.08%\n",
      "Ілля Кива: 0.08%\n",
      "Олександр Мороз: 0.08%\n",
      "Валентин Наливайченко: 0.08%\n",
      "Хтось інший: 0.79%\n",
      "All probabilities: 99.99999999999999999999999989%\n"
     ]
    }
   ],
   "source": [
    "print('Рейтинг згідно sports.bwin.com:')\n",
    "all_probabilities = 0\n",
    "for name, odd in odds.items():\n",
    "    probability = (Decimal(1) / (Decimal(odd) * all_probabilities_with_margin)) * 100\n",
    "    all_probabilities += probability\n",
    "    print('{0}: {1:.2f}%'.format(name, probability))\n",
    "print('All probabilities: {0}%'.format(all_probabilities))"
   ]
  },
  {
   "cell_type": "code",
   "execution_count": 59,
   "metadata": {},
   "outputs": [
    {
     "name": "stdout",
     "output_type": "stream",
     "text": [
      "А що якщо в переліку є кандидати, яких букмекер оцінює як нулі,\n",
      "але з причин фінансової доцільності пише їм якийсь загальноприйнятний максимум?\n",
      "Візьмемо 1001 як цей максимум і позначимо всіх кандидатів з виграшом більше 1000,\n",
      "як тих, що мають нульові шанси\n",
      "Ще існує такий пункт, як \"хтось інший\", букмекер вважає, що вже всі реальні\n",
      "претенденти додались. Сумарно всі хто ще може додатися оцінюється як виграш 101,\n",
      "тобто 10 кандидатів без всіляких шансів. Приберемо це пункт також\n",
      "\n",
      "Маржа букмекера: 23.46%.\n",
      "Тим часом середня маржа на ринку: десь 4.5%\n"
     ]
    }
   ],
   "source": [
    "print(\n",
    "    'А що якщо в переліку є кандидати, яких букмекер оцінює як нулі,\\n'\n",
    "    'але з причин фінансової доцільності пише їм якийсь загальноприйнятний максимум?\\n'\n",
    "    'Візьмемо 1001 як цей максимум і позначимо всіх кандидатів з виграшом більше 1000,\\n'\n",
    "    'як тих, що мають нульові шанси\\n'\n",
    "    'Ще існує такий пункт, як \"хтось інший\", букмекер вважає, що вже всі реальні\\n'\n",
    "    'претенденти додались. Сумарно всі хто ще може додатися оцінюється як виграш 101,\\n'\n",
    "    'тобто 10 кандидатів без всіляких шансів. Приберемо це пункт також\\n'\n",
    ")\n",
    "\n",
    "del odds['Хтось інший']\n",
    "\n",
    "all_probabilities_with_margin = sum(\n",
    "    [Decimal(1) / Decimal(odd) for odd in odds.values() if odd < 1000]\n",
    ")\n",
    "bookmakers_margin = all_probabilities_with_margin - 1\n",
    "print('Маржа букмекера: {0:.2f}%.\\nТим часом середня маржа на ринку: десь 4.5%'.format(\n",
    "    bookmakers_margin * 100\n",
    "))"
   ]
  },
  {
   "cell_type": "code",
   "execution_count": 60,
   "metadata": {},
   "outputs": [
    {
     "name": "stdout",
     "output_type": "stream",
     "text": [
      "Рейтинг згідно sports.bwin.com:\n",
      "Петро Порошенко: 40.50%\n",
      "Юлія Тимошенко: 28.93%\n",
      "Володимир Зеленський: 20.25%\n",
      "Анатолій Гриценко: 3.86%\n",
      "Андрій Садовий: 1.98%\n",
      "Юрій Бойко: 1.59%\n",
      "Олег Ляшко: 1.59%\n",
      "Олександр Вілкул: 0.40%\n",
      "Євген Мураєв: 0.27%\n",
      "Руслан Кошулинський: 0.16%\n",
      "Ігор Смешко: 0.16%\n",
      "Ольга Богомолець: 0.16%\n",
      "Сергій Тарута: 0.16%\n",
      "All probabilities: 99.99999999999999999999999992%\n"
     ]
    }
   ],
   "source": [
    "print('Рейтинг згідно sports.bwin.com:')\n",
    "all_probabilities = 0\n",
    "for name, odd in odds.items():\n",
    "    if odd > 1000:\n",
    "        # Skip all 0 probability candidates\n",
    "        continue\n",
    "    probability = (Decimal(1) / (Decimal(odd) * all_probabilities_with_margin)) * 100\n",
    "    all_probabilities += probability\n",
    "    print('{0}: {1:.2f}%'.format(name, probability))\n",
    "print('All probabilities: {0}%'.format(all_probabilities))"
   ]
  },
  {
   "cell_type": "code",
   "execution_count": null,
   "metadata": {},
   "outputs": [],
   "source": []
  }
 ],
 "metadata": {
  "kernelspec": {
   "display_name": "Python 3",
   "language": "python",
   "name": "python3"
  },
  "language_info": {
   "codemirror_mode": {
    "name": "ipython",
    "version": 3
   },
   "file_extension": ".py",
   "mimetype": "text/x-python",
   "name": "python",
   "nbconvert_exporter": "python",
   "pygments_lexer": "ipython3",
   "version": "3.6.5"
  }
 },
 "nbformat": 4,
 "nbformat_minor": 2
}
